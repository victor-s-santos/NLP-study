{
 "cells": [
  {
   "cell_type": "markdown",
   "metadata": {},
   "source": [
    "# Instalando a Versão do Curso"
   ]
  },
  {
   "cell_type": "code",
   "execution_count": 2,
   "metadata": {},
   "outputs": [
    {
     "name": "stdout",
     "output_type": "stream",
     "text": [
      "Collecting spacy==2.2.3\n",
      "  Using cached spacy-2.2.3-cp38-cp38-manylinux1_x86_64.whl (10.3 MB)\n",
      "Collecting preshed<3.1.0,>=3.0.2\n",
      "  Using cached preshed-3.0.2-cp38-cp38-manylinux1_x86_64.whl (118 kB)\n",
      "Requirement already satisfied: setuptools in /home/visus/anaconda3/lib/python3.8/site-packages (from spacy==2.2.3) (49.2.0.post20200714)\n",
      "Collecting blis<0.5.0,>=0.4.0\n",
      "  Using cached blis-0.4.1-cp38-cp38-manylinux1_x86_64.whl (3.7 MB)\n",
      "Requirement already satisfied: numpy>=1.15.0 in /home/visus/anaconda3/lib/python3.8/site-packages (from spacy==2.2.3) (1.18.5)\n",
      "Requirement already satisfied: requests<3.0.0,>=2.13.0 in /home/visus/anaconda3/lib/python3.8/site-packages (from spacy==2.2.3) (2.24.0)\n",
      "Collecting plac<1.2.0,>=0.9.6\n",
      "  Using cached plac-1.1.3-py2.py3-none-any.whl (20 kB)\n",
      "Collecting wasabi<1.1.0,>=0.4.0\n",
      "  Using cached wasabi-0.7.1.tar.gz (22 kB)\n",
      "Collecting cymem<2.1.0,>=2.0.2\n",
      "  Using cached cymem-2.0.3-cp38-cp38-manylinux1_x86_64.whl (33 kB)\n",
      "Collecting murmurhash<1.1.0,>=0.28.0\n",
      "  Using cached murmurhash-1.0.2-cp38-cp38-manylinux1_x86_64.whl (19 kB)\n",
      "Collecting catalogue<1.1.0,>=0.0.7\n",
      "  Using cached catalogue-1.0.0-py2.py3-none-any.whl (7.7 kB)\n",
      "Collecting thinc<7.4.0,>=7.3.0\n",
      "  Using cached thinc-7.3.1-cp38-cp38-manylinux1_x86_64.whl (2.2 MB)\n",
      "Collecting srsly<1.1.0,>=0.1.0\n",
      "  Using cached srsly-1.0.2-cp38-cp38-manylinux1_x86_64.whl (185 kB)\n",
      "Requirement already satisfied: idna<3,>=2.5 in /home/visus/anaconda3/lib/python3.8/site-packages (from requests<3.0.0,>=2.13.0->spacy==2.2.3) (2.10)\n",
      "Requirement already satisfied: certifi>=2017.4.17 in /home/visus/anaconda3/lib/python3.8/site-packages (from requests<3.0.0,>=2.13.0->spacy==2.2.3) (2020.6.20)\n",
      "Requirement already satisfied: urllib3!=1.25.0,!=1.25.1,<1.26,>=1.21.1 in /home/visus/anaconda3/lib/python3.8/site-packages (from requests<3.0.0,>=2.13.0->spacy==2.2.3) (1.25.9)\n",
      "Requirement already satisfied: chardet<4,>=3.0.2 in /home/visus/anaconda3/lib/python3.8/site-packages (from requests<3.0.0,>=2.13.0->spacy==2.2.3) (3.0.4)\n",
      "Requirement already satisfied: tqdm<5.0.0,>=4.10.0 in /home/visus/anaconda3/lib/python3.8/site-packages (from thinc<7.4.0,>=7.3.0->spacy==2.2.3) (4.47.0)\n",
      "Building wheels for collected packages: wasabi\n",
      "  Building wheel for wasabi (setup.py) ... \u001b[?25ldone\n",
      "\u001b[?25h  Created wheel for wasabi: filename=wasabi-0.7.1-py3-none-any.whl size=20834 sha256=a60da960b30aedd6dfdd870b492cf5dfda58672dd0e0a324c69087380cfa5d43\n",
      "  Stored in directory: /home/visus/.cache/pip/wheels/f2/d4/16/366223ea944794b7a8ff2194de44033ceef210e8d8bb76fe79\n",
      "Successfully built wasabi\n",
      "Installing collected packages: murmurhash, cymem, preshed, blis, plac, wasabi, catalogue, srsly, thinc, spacy\n",
      "Successfully installed blis-0.4.1 catalogue-1.0.0 cymem-2.0.3 murmurhash-1.0.2 plac-1.1.3 preshed-3.0.2 spacy-2.2.3 srsly-1.0.2 thinc-7.3.1 wasabi-0.7.1\n"
     ]
    }
   ],
   "source": [
    "!pip install spacy==2.2.3"
   ]
  },
  {
   "cell_type": "markdown",
   "metadata": {},
   "source": [
    "* __Download e instalação dos pacotes em Português:__"
   ]
  },
  {
   "cell_type": "code",
   "execution_count": 4,
   "metadata": {},
   "outputs": [
    {
     "name": "stdout",
     "output_type": "stream",
     "text": [
      "Collecting pt_core_news_sm==2.2.5\n",
      "  Downloading https://github.com/explosion/spacy-models/releases/download/pt_core_news_sm-2.2.5/pt_core_news_sm-2.2.5.tar.gz (21.2 MB)\n",
      "\u001b[K     |████████████████████████████████| 21.2 MB 4.4 MB/s eta 0:00:01     |██████████████████████▊         | 15.1 MB 1.2 MB/s eta 0:00:06\n",
      "\u001b[?25hRequirement already satisfied: spacy>=2.2.2 in /home/visus/anaconda3/lib/python3.8/site-packages (from pt_core_news_sm==2.2.5) (2.2.3)\n",
      "Requirement already satisfied: wasabi<1.1.0,>=0.4.0 in /home/visus/anaconda3/lib/python3.8/site-packages (from spacy>=2.2.2->pt_core_news_sm==2.2.5) (0.7.1)\n",
      "Requirement already satisfied: thinc<7.4.0,>=7.3.0 in /home/visus/anaconda3/lib/python3.8/site-packages (from spacy>=2.2.2->pt_core_news_sm==2.2.5) (7.3.1)\n",
      "Requirement already satisfied: blis<0.5.0,>=0.4.0 in /home/visus/anaconda3/lib/python3.8/site-packages (from spacy>=2.2.2->pt_core_news_sm==2.2.5) (0.4.1)\n",
      "Requirement already satisfied: murmurhash<1.1.0,>=0.28.0 in /home/visus/anaconda3/lib/python3.8/site-packages (from spacy>=2.2.2->pt_core_news_sm==2.2.5) (1.0.2)\n",
      "Requirement already satisfied: cymem<2.1.0,>=2.0.2 in /home/visus/anaconda3/lib/python3.8/site-packages (from spacy>=2.2.2->pt_core_news_sm==2.2.5) (2.0.3)\n",
      "Requirement already satisfied: catalogue<1.1.0,>=0.0.7 in /home/visus/anaconda3/lib/python3.8/site-packages (from spacy>=2.2.2->pt_core_news_sm==2.2.5) (1.0.0)\n",
      "Requirement already satisfied: setuptools in /home/visus/anaconda3/lib/python3.8/site-packages (from spacy>=2.2.2->pt_core_news_sm==2.2.5) (49.2.0.post20200714)\n",
      "Requirement already satisfied: numpy>=1.15.0 in /home/visus/anaconda3/lib/python3.8/site-packages (from spacy>=2.2.2->pt_core_news_sm==2.2.5) (1.18.5)\n",
      "Requirement already satisfied: requests<3.0.0,>=2.13.0 in /home/visus/anaconda3/lib/python3.8/site-packages (from spacy>=2.2.2->pt_core_news_sm==2.2.5) (2.24.0)\n",
      "Requirement already satisfied: srsly<1.1.0,>=0.1.0 in /home/visus/anaconda3/lib/python3.8/site-packages (from spacy>=2.2.2->pt_core_news_sm==2.2.5) (1.0.2)\n",
      "Requirement already satisfied: preshed<3.1.0,>=3.0.2 in /home/visus/anaconda3/lib/python3.8/site-packages (from spacy>=2.2.2->pt_core_news_sm==2.2.5) (3.0.2)\n",
      "Requirement already satisfied: plac<1.2.0,>=0.9.6 in /home/visus/anaconda3/lib/python3.8/site-packages (from spacy>=2.2.2->pt_core_news_sm==2.2.5) (1.1.3)\n",
      "Requirement already satisfied: tqdm<5.0.0,>=4.10.0 in /home/visus/anaconda3/lib/python3.8/site-packages (from thinc<7.4.0,>=7.3.0->spacy>=2.2.2->pt_core_news_sm==2.2.5) (4.47.0)\n",
      "Requirement already satisfied: chardet<4,>=3.0.2 in /home/visus/anaconda3/lib/python3.8/site-packages (from requests<3.0.0,>=2.13.0->spacy>=2.2.2->pt_core_news_sm==2.2.5) (3.0.4)\n",
      "Requirement already satisfied: urllib3!=1.25.0,!=1.25.1,<1.26,>=1.21.1 in /home/visus/anaconda3/lib/python3.8/site-packages (from requests<3.0.0,>=2.13.0->spacy>=2.2.2->pt_core_news_sm==2.2.5) (1.25.9)\n",
      "Requirement already satisfied: certifi>=2017.4.17 in /home/visus/anaconda3/lib/python3.8/site-packages (from requests<3.0.0,>=2.13.0->spacy>=2.2.2->pt_core_news_sm==2.2.5) (2020.6.20)\n",
      "Requirement already satisfied: idna<3,>=2.5 in /home/visus/anaconda3/lib/python3.8/site-packages (from requests<3.0.0,>=2.13.0->spacy>=2.2.2->pt_core_news_sm==2.2.5) (2.10)\n",
      "Building wheels for collected packages: pt-core-news-sm\n",
      "  Building wheel for pt-core-news-sm (setup.py) ... \u001b[?25ldone\n",
      "\u001b[?25h  Created wheel for pt-core-news-sm: filename=pt_core_news_sm-2.2.5-py3-none-any.whl size=21186283 sha256=be42fb7908818b683874b871e180a3eeeac93411dcb2399793c215d29214e0ca\n",
      "  Stored in directory: /tmp/pip-ephem-wheel-cache-5oi26ll6/wheels/81/c3/05/0d8e031490707ac9e6409c6fd9d755f6359e25ed187794a36c\n",
      "Successfully built pt-core-news-sm\n",
      "Installing collected packages: pt-core-news-sm\n",
      "Successfully installed pt-core-news-sm-2.2.5\n",
      "\u001b[38;5;2m✔ Download and installation successful\u001b[0m\n",
      "You can now load the model via spacy.load('pt_core_news_sm')\n",
      "\u001b[38;5;2m✔ Linking successful\u001b[0m\n",
      "/home/visus/anaconda3/lib/python3.8/site-packages/pt_core_news_sm -->\n",
      "/home/visus/anaconda3/lib/python3.8/site-packages/spacy/data/pt\n",
      "You can now load the model via spacy.load('pt')\n"
     ]
    }
   ],
   "source": [
    "!python -m spacy download pt"
   ]
  },
  {
   "cell_type": "markdown",
   "metadata": {},
   "source": [
    "# Mão na massa:\n",
    " * __Marcação POS:__\n",
    "- POS (part-of-speech) atribui para as palavras partes da fala, como substantivos, adjetivos, verbos"
   ]
  }
 ],
 "metadata": {
  "kernelspec": {
   "display_name": "Python 3",
   "language": "python",
   "name": "python3"
  },
  "language_info": {
   "codemirror_mode": {
    "name": "ipython",
    "version": 3
   },
   "file_extension": ".py",
   "mimetype": "text/x-python",
   "name": "python",
   "nbconvert_exporter": "python",
   "pygments_lexer": "ipython3",
   "version": "3.8.3"
  }
 },
 "nbformat": 4,
 "nbformat_minor": 4
}
