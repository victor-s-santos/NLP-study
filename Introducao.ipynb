{
 "cells": [
  {
   "cell_type": "markdown",
   "metadata": {},
   "source": [
    "# Instalando a Versão do Curso"
   ]
  },
  {
   "cell_type": "code",
   "execution_count": 2,
   "metadata": {},
   "outputs": [
    {
     "name": "stdout",
     "output_type": "stream",
     "text": [
      "Collecting spacy==2.2.3\n",
      "  Using cached spacy-2.2.3-cp38-cp38-manylinux1_x86_64.whl (10.3 MB)\n",
      "Collecting preshed<3.1.0,>=3.0.2\n",
      "  Using cached preshed-3.0.2-cp38-cp38-manylinux1_x86_64.whl (118 kB)\n",
      "Requirement already satisfied: setuptools in /home/visus/anaconda3/lib/python3.8/site-packages (from spacy==2.2.3) (49.2.0.post20200714)\n",
      "Collecting blis<0.5.0,>=0.4.0\n",
      "  Using cached blis-0.4.1-cp38-cp38-manylinux1_x86_64.whl (3.7 MB)\n",
      "Requirement already satisfied: numpy>=1.15.0 in /home/visus/anaconda3/lib/python3.8/site-packages (from spacy==2.2.3) (1.18.5)\n",
      "Requirement already satisfied: requests<3.0.0,>=2.13.0 in /home/visus/anaconda3/lib/python3.8/site-packages (from spacy==2.2.3) (2.24.0)\n",
      "Collecting plac<1.2.0,>=0.9.6\n",
      "  Using cached plac-1.1.3-py2.py3-none-any.whl (20 kB)\n",
      "Collecting wasabi<1.1.0,>=0.4.0\n",
      "  Using cached wasabi-0.7.1.tar.gz (22 kB)\n",
      "Collecting cymem<2.1.0,>=2.0.2\n",
      "  Using cached cymem-2.0.3-cp38-cp38-manylinux1_x86_64.whl (33 kB)\n",
      "Collecting murmurhash<1.1.0,>=0.28.0\n",
      "  Using cached murmurhash-1.0.2-cp38-cp38-manylinux1_x86_64.whl (19 kB)\n",
      "Collecting catalogue<1.1.0,>=0.0.7\n",
      "  Using cached catalogue-1.0.0-py2.py3-none-any.whl (7.7 kB)\n",
      "Collecting thinc<7.4.0,>=7.3.0\n",
      "  Using cached thinc-7.3.1-cp38-cp38-manylinux1_x86_64.whl (2.2 MB)\n",
      "Collecting srsly<1.1.0,>=0.1.0\n",
      "  Using cached srsly-1.0.2-cp38-cp38-manylinux1_x86_64.whl (185 kB)\n",
      "Requirement already satisfied: idna<3,>=2.5 in /home/visus/anaconda3/lib/python3.8/site-packages (from requests<3.0.0,>=2.13.0->spacy==2.2.3) (2.10)\n",
      "Requirement already satisfied: certifi>=2017.4.17 in /home/visus/anaconda3/lib/python3.8/site-packages (from requests<3.0.0,>=2.13.0->spacy==2.2.3) (2020.6.20)\n",
      "Requirement already satisfied: urllib3!=1.25.0,!=1.25.1,<1.26,>=1.21.1 in /home/visus/anaconda3/lib/python3.8/site-packages (from requests<3.0.0,>=2.13.0->spacy==2.2.3) (1.25.9)\n",
      "Requirement already satisfied: chardet<4,>=3.0.2 in /home/visus/anaconda3/lib/python3.8/site-packages (from requests<3.0.0,>=2.13.0->spacy==2.2.3) (3.0.4)\n",
      "Requirement already satisfied: tqdm<5.0.0,>=4.10.0 in /home/visus/anaconda3/lib/python3.8/site-packages (from thinc<7.4.0,>=7.3.0->spacy==2.2.3) (4.47.0)\n",
      "Building wheels for collected packages: wasabi\n",
      "  Building wheel for wasabi (setup.py) ... \u001b[?25ldone\n",
      "\u001b[?25h  Created wheel for wasabi: filename=wasabi-0.7.1-py3-none-any.whl size=20834 sha256=a60da960b30aedd6dfdd870b492cf5dfda58672dd0e0a324c69087380cfa5d43\n",
      "  Stored in directory: /home/visus/.cache/pip/wheels/f2/d4/16/366223ea944794b7a8ff2194de44033ceef210e8d8bb76fe79\n",
      "Successfully built wasabi\n",
      "Installing collected packages: murmurhash, cymem, preshed, blis, plac, wasabi, catalogue, srsly, thinc, spacy\n",
      "Successfully installed blis-0.4.1 catalogue-1.0.0 cymem-2.0.3 murmurhash-1.0.2 plac-1.1.3 preshed-3.0.2 spacy-2.2.3 srsly-1.0.2 thinc-7.3.1 wasabi-0.7.1\n"
     ]
    }
   ],
   "source": [
    "!pip install spacy==2.2.3"
   ]
  },
  {
   "cell_type": "markdown",
   "metadata": {},
   "source": [
    "* __Download e instalação dos pacotes em Português:__"
   ]
  },
  {
   "cell_type": "code",
   "execution_count": 4,
   "metadata": {},
   "outputs": [
    {
     "name": "stdout",
     "output_type": "stream",
     "text": [
      "Collecting pt_core_news_sm==2.2.5\n",
      "  Downloading https://github.com/explosion/spacy-models/releases/download/pt_core_news_sm-2.2.5/pt_core_news_sm-2.2.5.tar.gz (21.2 MB)\n",
      "\u001b[K     |████████████████████████████████| 21.2 MB 4.4 MB/s eta 0:00:01     |██████████████████████▊         | 15.1 MB 1.2 MB/s eta 0:00:06\n",
      "\u001b[?25hRequirement already satisfied: spacy>=2.2.2 in /home/visus/anaconda3/lib/python3.8/site-packages (from pt_core_news_sm==2.2.5) (2.2.3)\n",
      "Requirement already satisfied: wasabi<1.1.0,>=0.4.0 in /home/visus/anaconda3/lib/python3.8/site-packages (from spacy>=2.2.2->pt_core_news_sm==2.2.5) (0.7.1)\n",
      "Requirement already satisfied: thinc<7.4.0,>=7.3.0 in /home/visus/anaconda3/lib/python3.8/site-packages (from spacy>=2.2.2->pt_core_news_sm==2.2.5) (7.3.1)\n",
      "Requirement already satisfied: blis<0.5.0,>=0.4.0 in /home/visus/anaconda3/lib/python3.8/site-packages (from spacy>=2.2.2->pt_core_news_sm==2.2.5) (0.4.1)\n",
      "Requirement already satisfied: murmurhash<1.1.0,>=0.28.0 in /home/visus/anaconda3/lib/python3.8/site-packages (from spacy>=2.2.2->pt_core_news_sm==2.2.5) (1.0.2)\n",
      "Requirement already satisfied: cymem<2.1.0,>=2.0.2 in /home/visus/anaconda3/lib/python3.8/site-packages (from spacy>=2.2.2->pt_core_news_sm==2.2.5) (2.0.3)\n",
      "Requirement already satisfied: catalogue<1.1.0,>=0.0.7 in /home/visus/anaconda3/lib/python3.8/site-packages (from spacy>=2.2.2->pt_core_news_sm==2.2.5) (1.0.0)\n",
      "Requirement already satisfied: setuptools in /home/visus/anaconda3/lib/python3.8/site-packages (from spacy>=2.2.2->pt_core_news_sm==2.2.5) (49.2.0.post20200714)\n",
      "Requirement already satisfied: numpy>=1.15.0 in /home/visus/anaconda3/lib/python3.8/site-packages (from spacy>=2.2.2->pt_core_news_sm==2.2.5) (1.18.5)\n",
      "Requirement already satisfied: requests<3.0.0,>=2.13.0 in /home/visus/anaconda3/lib/python3.8/site-packages (from spacy>=2.2.2->pt_core_news_sm==2.2.5) (2.24.0)\n",
      "Requirement already satisfied: srsly<1.1.0,>=0.1.0 in /home/visus/anaconda3/lib/python3.8/site-packages (from spacy>=2.2.2->pt_core_news_sm==2.2.5) (1.0.2)\n",
      "Requirement already satisfied: preshed<3.1.0,>=3.0.2 in /home/visus/anaconda3/lib/python3.8/site-packages (from spacy>=2.2.2->pt_core_news_sm==2.2.5) (3.0.2)\n",
      "Requirement already satisfied: plac<1.2.0,>=0.9.6 in /home/visus/anaconda3/lib/python3.8/site-packages (from spacy>=2.2.2->pt_core_news_sm==2.2.5) (1.1.3)\n",
      "Requirement already satisfied: tqdm<5.0.0,>=4.10.0 in /home/visus/anaconda3/lib/python3.8/site-packages (from thinc<7.4.0,>=7.3.0->spacy>=2.2.2->pt_core_news_sm==2.2.5) (4.47.0)\n",
      "Requirement already satisfied: chardet<4,>=3.0.2 in /home/visus/anaconda3/lib/python3.8/site-packages (from requests<3.0.0,>=2.13.0->spacy>=2.2.2->pt_core_news_sm==2.2.5) (3.0.4)\n",
      "Requirement already satisfied: urllib3!=1.25.0,!=1.25.1,<1.26,>=1.21.1 in /home/visus/anaconda3/lib/python3.8/site-packages (from requests<3.0.0,>=2.13.0->spacy>=2.2.2->pt_core_news_sm==2.2.5) (1.25.9)\n",
      "Requirement already satisfied: certifi>=2017.4.17 in /home/visus/anaconda3/lib/python3.8/site-packages (from requests<3.0.0,>=2.13.0->spacy>=2.2.2->pt_core_news_sm==2.2.5) (2020.6.20)\n",
      "Requirement already satisfied: idna<3,>=2.5 in /home/visus/anaconda3/lib/python3.8/site-packages (from requests<3.0.0,>=2.13.0->spacy>=2.2.2->pt_core_news_sm==2.2.5) (2.10)\n",
      "Building wheels for collected packages: pt-core-news-sm\n",
      "  Building wheel for pt-core-news-sm (setup.py) ... \u001b[?25ldone\n",
      "\u001b[?25h  Created wheel for pt-core-news-sm: filename=pt_core_news_sm-2.2.5-py3-none-any.whl size=21186283 sha256=be42fb7908818b683874b871e180a3eeeac93411dcb2399793c215d29214e0ca\n",
      "  Stored in directory: /tmp/pip-ephem-wheel-cache-5oi26ll6/wheels/81/c3/05/0d8e031490707ac9e6409c6fd9d755f6359e25ed187794a36c\n",
      "Successfully built pt-core-news-sm\n",
      "Installing collected packages: pt-core-news-sm\n",
      "Successfully installed pt-core-news-sm-2.2.5\n",
      "\u001b[38;5;2m✔ Download and installation successful\u001b[0m\n",
      "You can now load the model via spacy.load('pt_core_news_sm')\n",
      "\u001b[38;5;2m✔ Linking successful\u001b[0m\n",
      "/home/visus/anaconda3/lib/python3.8/site-packages/pt_core_news_sm -->\n",
      "/home/visus/anaconda3/lib/python3.8/site-packages/spacy/data/pt\n",
      "You can now load the model via spacy.load('pt')\n"
     ]
    }
   ],
   "source": [
    "!python -m spacy download pt"
   ]
  },
  {
   "cell_type": "markdown",
   "metadata": {},
   "source": [
    "# Mão na massa:\n",
    " * __Marcação POS:__\n",
    "- POS (part-of-speech) atribui para as palavras partes da fala, como substantivos, adjetivos, verbos"
   ]
  },
  {
   "cell_type": "code",
   "execution_count": 6,
   "metadata": {},
   "outputs": [],
   "source": [
    "#definindo o objeto de linguagem natural em lingua portuguesa\n",
    "nlp = spacy.load('pt')"
   ]
  },
  {
   "cell_type": "code",
   "execution_count": 14,
   "metadata": {},
   "outputs": [],
   "source": [
    "#usando o objeto\n",
    "document1 = nlp('Python é 42.')\n",
    "document2 = nlp('Estudo da linguagem Python para processamento natural de linguagem.')"
   ]
  },
  {
   "cell_type": "code",
   "execution_count": 10,
   "metadata": {},
   "outputs": [
    {
     "name": "stdout",
     "output_type": "stream",
     "text": [
      "Python PROPN\n",
      "é VERB\n",
      "42 NUM\n",
      ". PUNCT\n"
     ]
    }
   ],
   "source": [
    "#trazendo o pos \n",
    "for word in document1:\n",
    "    print(word.text, word.pos_)"
   ]
  },
  {
   "cell_type": "code",
   "execution_count": 16,
   "metadata": {},
   "outputs": [
    {
     "name": "stdout",
     "output_type": "stream",
     "text": [
      "Estudo NOUN\n",
      "da ADP\n",
      "linguagem NOUN\n",
      "Python PROPN\n",
      "para ADP\n",
      "processamento NOUN\n",
      "natural ADJ\n",
      "de ADP\n",
      "linguagem NOUN\n",
      ". PUNCT\n"
     ]
    }
   ],
   "source": [
    "for word in document2:\n",
    "    print(word.text, word.pos_)"
   ]
  },
  {
   "cell_type": "markdown",
   "metadata": {},
   "source": [
    "## Legenda dos atributos do objeto\n",
    "- lemma: raiz da palavra\n",
    "- pos: parte da fala\n",
    "- tag: informações morfológicas, como se o verbo está no passado\n",
    "- dep: dependência sintática\n",
    "- shape: formato (maiúsculo, minúsculo, dígitos)\n",
    "- alpha: se é alfabético\n",
    "- stop: se é stopword"
   ]
  },
  {
   "cell_type": "code",
   "execution_count": 26,
   "metadata": {},
   "outputs": [
    {
     "name": "stdout",
     "output_type": "stream",
     "text": [
      "Palavra:Estudo\n",
      " Raiz da palavra: Estudo\n",
      " Parte da fala: NOUN\n",
      " Morfologia: <np-idf>|N|M|S|@NPHR\n",
      " Dependência sintática: ROOT\n",
      " Formato: Xxxxx\n",
      " Numérico: True\n",
      " Stop Word: False\n",
      "\n",
      "Palavra:da\n",
      " Raiz da palavra: da\n",
      " Parte da fala: ADP\n",
      " Morfologia: ADP\n",
      " Dependência sintática: case\n",
      " Formato: xx\n",
      " Numérico: True\n",
      " Stop Word: True\n",
      "\n",
      "Palavra:linguagem\n",
      " Raiz da palavra: linguagem\n",
      " Parte da fala: NOUN\n",
      " Morfologia: <np-idf>|N|F|S|@P<\n",
      " Dependência sintática: nmod\n",
      " Formato: xxxx\n",
      " Numérico: True\n",
      " Stop Word: False\n",
      "\n",
      "Palavra:Python\n",
      " Raiz da palavra: Python\n",
      " Parte da fala: PROPN\n",
      " Morfologia: PROP|F|S|@N<\n",
      " Dependência sintática: ROOT\n",
      " Formato: Xxxxx\n",
      " Numérico: True\n",
      " Stop Word: False\n",
      "\n",
      "Palavra:para\n",
      " Raiz da palavra: parir\n",
      " Parte da fala: ADP\n",
      " Morfologia: PRP|@<ADVL\n",
      " Dependência sintática: case\n",
      " Formato: xxxx\n",
      " Numérico: True\n",
      " Stop Word: True\n",
      "\n",
      "Palavra:processamento\n",
      " Raiz da palavra: processamento\n",
      " Parte da fala: NOUN\n",
      " Morfologia: <np-idf>|N|M|S|@P<\n",
      " Dependência sintática: nmod\n",
      " Formato: xxxx\n",
      " Numérico: True\n",
      " Stop Word: False\n",
      "\n",
      "Palavra:natural\n",
      " Raiz da palavra: natural\n",
      " Parte da fala: ADJ\n",
      " Morfologia: ADJ|M|S|@N<\n",
      " Dependência sintática: amod\n",
      " Formato: xxxx\n",
      " Numérico: True\n",
      " Stop Word: False\n",
      "\n",
      "Palavra:de\n",
      " Raiz da palavra: de\n",
      " Parte da fala: ADP\n",
      " Morfologia: PRP|@N<\n",
      " Dependência sintática: case\n",
      " Formato: xx\n",
      " Numérico: True\n",
      " Stop Word: True\n",
      "\n",
      "Palavra:linguagem\n",
      " Raiz da palavra: linguagem\n",
      " Parte da fala: NOUN\n",
      " Morfologia: <np-idf>|N|F|S|@P<\n",
      " Dependência sintática: nmod\n",
      " Formato: xxxx\n",
      " Numérico: True\n",
      " Stop Word: False\n",
      "\n",
      "Palavra:.\n",
      " Raiz da palavra: .\n",
      " Parte da fala: PUNCT\n",
      " Morfologia: PU|@PU\n",
      " Dependência sintática: punct\n",
      " Formato: .\n",
      " Numérico: False\n",
      " Stop Word: False\n",
      "\n"
     ]
    }
   ],
   "source": [
    "for word in document2:\n",
    "    print(f'Palavra:{word}\\n', f'Raiz da palavra: {word.lemma_}\\n', f'Parte da fala: {word.pos_}\\n', \n",
    "          f'Morfologia: {word.tag_}\\n', f'Dependência sintática: {word.dep_}\\n', \n",
    "          f'Formato: {word.shape_}\\n', f'Numérico: {word.is_alpha}\\n', \n",
    "          f'Stop Word: {word.is_stop}\\n')"
   ]
  },
  {
   "cell_type": "code",
   "execution_count": 28,
   "metadata": {},
   "outputs": [
    {
     "name": "stdout",
     "output_type": "stream",
     "text": [
      "Palavra:Python\n",
      " Raiz da palavra: Python\n",
      " Parte da fala: PROPN\n",
      " Morfologia: PROP|M|S|@SUBJ>\n",
      " Dependência sintática: nsubj\n",
      " Formato: Xxxxx\n",
      " Numérico: True\n",
      " Stop Word: False\n",
      "\n",
      "Palavra:é\n",
      " Raiz da palavra: ser\n",
      " Parte da fala: VERB\n",
      " Morfologia: <mv>|V|PR|3S|IND|@FS-STA\n",
      " Dependência sintática: cop\n",
      " Formato: x\n",
      " Numérico: True\n",
      " Stop Word: True\n",
      "\n",
      "Palavra:42\n",
      " Raiz da palavra: 42\n",
      " Parte da fala: NUM\n",
      " Morfologia: <card>|NUM|M|P|@N<\n",
      " Dependência sintática: ROOT\n",
      " Formato: dd\n",
      " Numérico: False\n",
      " Stop Word: False\n",
      "\n",
      "Palavra:.\n",
      " Raiz da palavra: .\n",
      " Parte da fala: PUNCT\n",
      " Morfologia: PU|@PU\n",
      " Dependência sintática: punct\n",
      " Formato: .\n",
      " Numérico: False\n",
      " Stop Word: False\n",
      "\n"
     ]
    }
   ],
   "source": [
    "for word in document1:\n",
    "    print(f'Palavra:{word}\\n', f'Raiz da palavra: {word.lemma_}\\n', f'Parte da fala: {word.pos_}\\n', \n",
    "          f'Morfologia: {word.tag_}\\n', f'Dependência sintática: {word.dep_}\\n', \n",
    "          f'Formato: {word.shape_}\\n', f'Numérico: {word.is_alpha}\\n', \n",
    "          f'Stop Word: {word.is_stop}\\n')"
   ]
  },
  {
   "cell_type": "markdown",
   "metadata": {},
   "source": [
    "## Lematização:\n",
    "- Lematização: \"Lema\" de uma palavra de acordo com seu significado no dicionário - palavra base (análise vocabular e morfológica)\n",
    "- OBS: Chama-se stemização(do nltk) a  simples extração do radical das palavras."
   ]
  },
  {
   "cell_type": "code",
   "execution_count": 30,
   "metadata": {},
   "outputs": [
    {
     "name": "stdout",
     "output_type": "stream",
     "text": [
      "Python Python\n",
      "é ser\n",
      "42 42\n",
      ". .\n"
     ]
    }
   ],
   "source": [
    "for word in document1:\n",
    "    print(word, word.lemma_)"
   ]
  },
  {
   "cell_type": "code",
   "execution_count": 32,
   "metadata": {},
   "outputs": [
    {
     "name": "stdout",
     "output_type": "stream",
     "text": [
      "Estudo Estudo\n",
      "da da\n",
      "linguagem linguagem\n",
      "Python Python\n",
      "para parir\n",
      "processamento processamento\n",
      "natural natural\n",
      "de de\n",
      "linguagem linguagem\n",
      ". .\n"
     ]
    }
   ],
   "source": [
    "for word in document2:\n",
    "    print(word, word.lemma_)"
   ]
  },
  {
   "cell_type": "code",
   "execution_count": 34,
   "metadata": {},
   "outputs": [
    {
     "data": {
      "text/plain": [
       "['programar', 'programar', 'programar', 'programar', 'programar']"
      ]
     },
     "execution_count": 34,
     "metadata": {},
     "output_type": "execute_result"
    }
   ],
   "source": [
    "verbo_conjugado = nlp('programo programei programaram programariam programe')\n",
    "[word.lemma_ for word in verbo_conjugado]\n",
    "\"\"\"mesmo utilizando diferentes modos (indicativo, subjuntivo e imperativo) e tempos verbais, o algoritmo é capaz de \n",
    "trazer o radical. No caso, o verbo no infinitivo.\"\"\""
   ]
  },
  {
   "cell_type": "markdown",
   "metadata": {},
   "source": [
    "# Reconhecimento de Entidades Nomeadas\n",
    "* __NER(Named-Entity Recognition)__"
   ]
  },
  {
   "cell_type": "code",
   "execution_count": 48,
   "metadata": {},
   "outputs": [
    {
     "name": "stdout",
     "output_type": "stream",
     "text": [
      "Magazine Luisa ORG\n",
      "Brasil LOC\n"
     ]
    }
   ],
   "source": [
    "text = \"A Magazine Luisa é uma varejista do Brasil, cujo principal diferencial são os e-commerces.\"\n",
    "document = nlp(text)\n",
    "for entity in document.ents:\n",
    "    print(entity.text, entity.label_)"
   ]
  },
  {
   "cell_type": "code",
   "execution_count": 50,
   "metadata": {},
   "outputs": [
    {
     "data": {
      "text/html": [
       "<div class=\"entities\" style=\"line-height: 2.5; direction: ltr\">A \n",
       "<mark class=\"entity\" style=\"background: #7aecec; padding: 0.45em 0.6em; margin: 0 0.25em; line-height: 1; border-radius: 0.35em;\">\n",
       "    Magazine Luisa\n",
       "    <span style=\"font-size: 0.8em; font-weight: bold; line-height: 1; border-radius: 0.35em; text-transform: uppercase; vertical-align: middle; margin-left: 0.5rem\">ORG</span>\n",
       "</mark>\n",
       " é uma varejista do \n",
       "<mark class=\"entity\" style=\"background: #ff9561; padding: 0.45em 0.6em; margin: 0 0.25em; line-height: 1; border-radius: 0.35em;\">\n",
       "    Brasil\n",
       "    <span style=\"font-size: 0.8em; font-weight: bold; line-height: 1; border-radius: 0.35em; text-transform: uppercase; vertical-align: middle; margin-left: 0.5rem\">LOC</span>\n",
       "</mark>\n",
       ", cujo principal diferencial são os e-commerces.</div>"
      ],
      "text/plain": [
       "<IPython.core.display.HTML object>"
      ]
     },
     "metadata": {},
     "output_type": "display_data"
    }
   ],
   "source": [
    "#Customizando a visualização de acordo com a entidade\n",
    "from spacy import displacy\n",
    "displacy.render(document, style = 'ent', jupyter=True)"
   ]
  },
  {
   "cell_type": "markdown",
   "metadata": {},
   "source": [
    "# StopWords\n",
    "* Palavras que aparecem com uma grande frequência, mas que seu significado não tem influência direta com o contexto:\n",
    "-__Exemplo:__ de, para, por, na, no, em....\n",
    "-São conectivos"
   ]
  },
  {
   "cell_type": "code",
   "execution_count": 51,
   "metadata": {},
   "outputs": [
    {
     "name": "stdout",
     "output_type": "stream",
     "text": [
      "413\n",
      "{'sete', 'novos', 'entre', 'as', 'final', 'tarde', 'apontar', 'dezanove', 'qual', 'nem', 'posição', 'momento', 'duas', 'ir', 'fez', 'tanto', 'deverá', 'tens', 'outra', 'inicio', 'disso', 'novo', 'segundo', 'depois', 'pontos', 'num', 'pela', 'custa', 'muito', 'dão', 'sempre', 'sei', 'tua', 'uns', 'que', 'sob', 'local', 'estado', 'alguns', 'através', 'cada', 'ademais', 'vindo', 'estava', 'sistema', 'estará', 'baixo', 'vêm', 'menor', 'cá', 'numa', 'terceiro', 'vinda', 'desse', 'fomos', 'nove', 'não', 'ter', 'mil', 'bom', 'demais', 'parte', 'dessa', 'sobre', 'meus', 'estas', 'adeus', 'mesmo', 'maiorias', 'elas', 'isso', 'minhas', 'nas', 'posso', 'boa', 'naquela', 'tentar', 'lhe', 'bem', 'primeiro', 'temos', 'faço', 'tivemos', 'conselho', 'fazem', 'número', 'acerca', 'sim', 'segunda', 'das', 'três', 'porque', 'põe', 'à', 'outros', 'eventual', 'certamente', 'contudo', 'quinze', 'possível', 'aquelas', 'fazemos', 'nosso', 'ele', 'irá', 'aquilo', 'aqui', 'assim', 'mas', 'ora', 'meses', 'vários', 'dezasseis', 'apoio', 'quieta', 'ser', 'vocês', 'muitos', 'às', 'sétima', 'fostes', 'pouca', 'cima', 'mal', 'todos', 'estivestes', 'geral', 'vossa', 'ou', 'lado', 'novas', 'faz', 'pois', 'têm', 'você', 'somos', 'devem', 'nenhuma', 'coisa', 'tempo', 'ponto', 'nos', 'ali', 'quer', 'conhecida', 'estão', 'nível', 'lá', 'uma', 'me', 'tal', 'seria', 'eu', 'parece', 'tenho', 'sua', 'dos', 'sois', 'números', 'suas', 'agora', 'direita', 'tais', 'comprida', 'porém', 'umas', 'esta', 'para', 'quê', 'um', 'vos', 'ambos', 'vós', 'logo', 'quieto', 'foste', 'falta', 'nessa', 'são', 'algo', 'dizer', 'porquanto', 'aos', 'talvez', 'perto', 'toda', 'saber', 'doze', 'oitava', 'vez', 'relação', 'pôde', 'atrás', 'usar', 'pelas', 'tentei', 'sou', 'nada', 'ambas', 'seus', 'se', 'por', 'nós', 'antes', 'te', 'inclusive', 'no', 'onze', 'dezassete', 'diante', 'grandes', 'fazes', 'estes', 'deste', 'cedo', 'área', 'só', 'fazia', 'vem', 'daquela', 'des', 'veja', 'ver', 'obrigada', 'fim', 'tuas', 'último', 'podem', 'qualquer', 'fazer', 'nesse', 'da', 'sétimo', 'dentro', 'nesta', 'pelo', 'teve', 'somente', 'possivelmente', 'aquela', 'bastante', 'sexta', 'dizem', 'é', 'foi', 'vais', 'pode', 'meio', 'obrigado', 'treze', 'está', 'poder', 'vão', 'tentaram', 'ao', 'tanta', 'daquele', 'aqueles', 'meu', 'foram', 'oitavo', 'estou', 'já', 'tipo', 'iniciar', 'fui', 'dez', 'quinto', 'essas', 'este', 'mês', 'vossas', 'põem', 'nuns', 'forma', 'menos', 'tu', 'quanto', 'grande', 'quarto', 'favor', 'algumas', 'quais', 'quatro', 'todo', 'deve', 'portanto', 'com', 'tivestes', 'seu', 'terceira', 'quem', 'nossas', 'após', 'apoia', 'desta', 'corrente', 'além', 'aí', 'poderá', 'estar', 'isto', 'outras', 'desde', 'naquele', 'tudo', 'vinte', 'de', 'embora', 'pelos', 'és', 'seis', 'diz', 'cuja', 'ontem', 'enquanto', 'nova', 'questão', 'teu', 'quarta', 'minha', 'debaixo', 'nunca', 'até', 'tive', 'sem', 'os', 'comprido', 'então', 'sabe', 'em', 'tiveste', 'conhecido', 'caminho', 'tem', 'nossa', 'valor', 'apenas', 'puderam', 'estive', 'máximo', 'todas', 'primeira', 'estivemos', 'ela', 'como', 'podia', 'maior', 'partir', 'nossos', 'do', 'estiveram', 'tiveram', 'oito', 'aquele', 'porquê', 'dezoito', 'próprio', 'próxima', 'cinco', 'pegar', 'esses', 'estás', 'dá', 'vens', 'grupo', 'era', 'sexto', 'vosso', 'for', 'longe', 'mais', 'na', 'neste', 'fará', 'vossos', 'tendes', 'vezes', 'breve', 'quinta', 'teus', 'vai', 'zero', 'ligado', 'esteve', 'fazeis', 'eles', 'próximo', 'essa', 'ainda', 'contra', 'quero', 'querem', 'também', 'tente', 'usa', 'esse', 'pouco', 'fora', 'tão', 'estiveste', 'cujo', 'certeza', 'povo', 'cento', 'catorze', 'lugar', 'dar', 'quando', 'dois', 'exemplo', 'onde', 'maioria'}\n"
     ]
    }
   ],
   "source": [
    "#exebindo as stopwords da língua portuguesa:\n",
    "from spacy.lang.pt.stop_words import STOP_WORDS\n",
    "conectivos = STOP_WORDS\n",
    "print(len(conectivos))\n",
    "print(conectivos)"
   ]
  },
  {
   "cell_type": "markdown",
   "metadata": {},
   "source": [
    "## As stopwords são palavras que devem ser retiradas da frase durante o pré-processamento"
   ]
  },
  {
   "cell_type": "code",
   "execution_count": 68,
   "metadata": {},
   "outputs": [
    {
     "data": {
      "text/plain": [
       "[True, True, True, True, True, True, True, True, True, True]"
      ]
     },
     "execution_count": 68,
     "metadata": {},
     "output_type": "execute_result"
    }
   ],
   "source": [
    "#para verificar se a palavra é uma stopword:\n",
    "\"\"\"nlp.vocab['ir'].is_stop\"\"\"\n",
    "[nlp.vocab[word].is_stop for word in conectivos][:10]"
   ]
  },
  {
   "cell_type": "markdown",
   "metadata": {},
   "source": [
    "# Dependency Parsing\n",
    "* __Análise de dependência(em tradução livre)__\n",
    "- Vai indicar a relação de hierarquia entre as palavras"
   ]
  },
  {
   "cell_type": "code",
   "execution_count": 82,
   "metadata": {},
   "outputs": [
    {
     "name": "stdout",
     "output_type": "stream",
     "text": [
      "Bertioga São-Paulo\n"
     ]
    }
   ],
   "source": [
    "document = nlp('Eu vou viajar de Bertioga para visitar meus avós em São-Paulo')\n",
    "origem = document[4]\n",
    "destino = document[10]\n",
    "print(origem, destino)"
   ]
  },
  {
   "cell_type": "code",
   "execution_count": 83,
   "metadata": {},
   "outputs": [
    {
     "name": "stdout",
     "output_type": "stream",
     "text": [
      "[viajar]\n"
     ]
    }
   ],
   "source": [
    "print(list(origem.ancestors))"
   ]
  },
  {
   "cell_type": "code",
   "execution_count": 85,
   "metadata": {},
   "outputs": [
    {
     "name": "stdout",
     "output_type": "stream",
     "text": [
      "[visitar, viajar]\n"
     ]
    }
   ],
   "source": [
    "print(list(destino.ancestors))"
   ]
  },
  {
   "cell_type": "code",
   "execution_count": 89,
   "metadata": {},
   "outputs": [
    {
     "data": {
      "text/plain": [
       "((viajar, visitar), (Bertioga, São-Paulo))"
      ]
     },
     "execution_count": 89,
     "metadata": {},
     "output_type": "execute_result"
    }
   ],
   "source": [
    "verbos = (document[2], document[6])\n",
    "cidades = (document[4], document[-1])\n",
    "verbos, cidades"
   ]
  },
  {
   "cell_type": "code",
   "execution_count": 97,
   "metadata": {},
   "outputs": [
    {
     "data": {
      "text/plain": [
       "([de], [em])"
      ]
     },
     "execution_count": 97,
     "metadata": {},
     "output_type": "execute_result"
    }
   ],
   "source": [
    "list(origem.children), list(destino.children)\n",
    "\"\"\"verifica-se então a necessidade de remoção das stopwords\"\"\""
   ]
  },
  {
   "cell_type": "code",
   "execution_count": 108,
   "metadata": {},
   "outputs": [
    {
     "data": {
      "text/plain": [
       "(True, True)"
      ]
     },
     "execution_count": 108,
     "metadata": {},
     "output_type": "execute_result"
    }
   ],
   "source": [
    "nlp.vocab[str(list(origem.children)[0])].is_stop, nlp.vocab[str(list(destino.children)[0])].is_stop"
   ]
  },
  {
   "cell_type": "code",
   "execution_count": 111,
   "metadata": {},
   "outputs": [
    {
     "data": {
      "text/html": [
       "<svg xmlns=\"http://www.w3.org/2000/svg\" xmlns:xlink=\"http://www.w3.org/1999/xlink\" xml:lang=\"pt\" id=\"7b572b798c7f42b69b8c91cf1841cba4-0\" class=\"displacy\" width=\"1040\" height=\"272.0\" direction=\"ltr\" style=\"max-width: none; height: 272.0px; color: #000000; background: #ffffff; font-family: Arial; direction: ltr\">\n",
       "<text class=\"displacy-token\" fill=\"currentColor\" text-anchor=\"middle\" y=\"182.0\">\n",
       "    <tspan class=\"displacy-word\" fill=\"currentColor\" x=\"50\">Eu</tspan>\n",
       "    <tspan class=\"displacy-tag\" dy=\"2em\" fill=\"currentColor\" x=\"50\">PRON</tspan>\n",
       "</text>\n",
       "\n",
       "<text class=\"displacy-token\" fill=\"currentColor\" text-anchor=\"middle\" y=\"182.0\">\n",
       "    <tspan class=\"displacy-word\" fill=\"currentColor\" x=\"140\">vou</tspan>\n",
       "    <tspan class=\"displacy-tag\" dy=\"2em\" fill=\"currentColor\" x=\"140\">AUX</tspan>\n",
       "</text>\n",
       "\n",
       "<text class=\"displacy-token\" fill=\"currentColor\" text-anchor=\"middle\" y=\"182.0\">\n",
       "    <tspan class=\"displacy-word\" fill=\"currentColor\" x=\"230\">viajar</tspan>\n",
       "    <tspan class=\"displacy-tag\" dy=\"2em\" fill=\"currentColor\" x=\"230\">VERB</tspan>\n",
       "</text>\n",
       "\n",
       "<text class=\"displacy-token\" fill=\"currentColor\" text-anchor=\"middle\" y=\"182.0\">\n",
       "    <tspan class=\"displacy-word\" fill=\"currentColor\" x=\"320\">de</tspan>\n",
       "    <tspan class=\"displacy-tag\" dy=\"2em\" fill=\"currentColor\" x=\"320\">ADP</tspan>\n",
       "</text>\n",
       "\n",
       "<text class=\"displacy-token\" fill=\"currentColor\" text-anchor=\"middle\" y=\"182.0\">\n",
       "    <tspan class=\"displacy-word\" fill=\"currentColor\" x=\"410\">Bertioga</tspan>\n",
       "    <tspan class=\"displacy-tag\" dy=\"2em\" fill=\"currentColor\" x=\"410\">PROPN</tspan>\n",
       "</text>\n",
       "\n",
       "<text class=\"displacy-token\" fill=\"currentColor\" text-anchor=\"middle\" y=\"182.0\">\n",
       "    <tspan class=\"displacy-word\" fill=\"currentColor\" x=\"500\">para</tspan>\n",
       "    <tspan class=\"displacy-tag\" dy=\"2em\" fill=\"currentColor\" x=\"500\">ADP</tspan>\n",
       "</text>\n",
       "\n",
       "<text class=\"displacy-token\" fill=\"currentColor\" text-anchor=\"middle\" y=\"182.0\">\n",
       "    <tspan class=\"displacy-word\" fill=\"currentColor\" x=\"590\">visitar</tspan>\n",
       "    <tspan class=\"displacy-tag\" dy=\"2em\" fill=\"currentColor\" x=\"590\">VERB</tspan>\n",
       "</text>\n",
       "\n",
       "<text class=\"displacy-token\" fill=\"currentColor\" text-anchor=\"middle\" y=\"182.0\">\n",
       "    <tspan class=\"displacy-word\" fill=\"currentColor\" x=\"680\">meus</tspan>\n",
       "    <tspan class=\"displacy-tag\" dy=\"2em\" fill=\"currentColor\" x=\"680\">DET</tspan>\n",
       "</text>\n",
       "\n",
       "<text class=\"displacy-token\" fill=\"currentColor\" text-anchor=\"middle\" y=\"182.0\">\n",
       "    <tspan class=\"displacy-word\" fill=\"currentColor\" x=\"770\">avós</tspan>\n",
       "    <tspan class=\"displacy-tag\" dy=\"2em\" fill=\"currentColor\" x=\"770\">NOUN</tspan>\n",
       "</text>\n",
       "\n",
       "<text class=\"displacy-token\" fill=\"currentColor\" text-anchor=\"middle\" y=\"182.0\">\n",
       "    <tspan class=\"displacy-word\" fill=\"currentColor\" x=\"860\">em</tspan>\n",
       "    <tspan class=\"displacy-tag\" dy=\"2em\" fill=\"currentColor\" x=\"860\">ADP</tspan>\n",
       "</text>\n",
       "\n",
       "<text class=\"displacy-token\" fill=\"currentColor\" text-anchor=\"middle\" y=\"182.0\">\n",
       "    <tspan class=\"displacy-word\" fill=\"currentColor\" x=\"950\">São-Paulo</tspan>\n",
       "    <tspan class=\"displacy-tag\" dy=\"2em\" fill=\"currentColor\" x=\"950\">PROPN</tspan>\n",
       "</text>\n",
       "\n",
       "<g class=\"displacy-arrow\">\n",
       "    <path class=\"displacy-arc\" id=\"arrow-7b572b798c7f42b69b8c91cf1841cba4-0-0\" stroke-width=\"2px\" d=\"M70,137.0 C70,47.0 225.0,47.0 225.0,137.0\" fill=\"none\" stroke=\"currentColor\"/>\n",
       "    <text dy=\"1.25em\" style=\"font-size: 0.8em; letter-spacing: 1px\">\n",
       "        <textPath xlink:href=\"#arrow-7b572b798c7f42b69b8c91cf1841cba4-0-0\" class=\"displacy-label\" startOffset=\"50%\" side=\"left\" fill=\"currentColor\" text-anchor=\"middle\">nsubj</textPath>\n",
       "    </text>\n",
       "    <path class=\"displacy-arrowhead\" d=\"M70,139.0 L62,127.0 78,127.0\" fill=\"currentColor\"/>\n",
       "</g>\n",
       "\n",
       "<g class=\"displacy-arrow\">\n",
       "    <path class=\"displacy-arc\" id=\"arrow-7b572b798c7f42b69b8c91cf1841cba4-0-1\" stroke-width=\"2px\" d=\"M160,137.0 C160,92.0 220.0,92.0 220.0,137.0\" fill=\"none\" stroke=\"currentColor\"/>\n",
       "    <text dy=\"1.25em\" style=\"font-size: 0.8em; letter-spacing: 1px\">\n",
       "        <textPath xlink:href=\"#arrow-7b572b798c7f42b69b8c91cf1841cba4-0-1\" class=\"displacy-label\" startOffset=\"50%\" side=\"left\" fill=\"currentColor\" text-anchor=\"middle\">aux</textPath>\n",
       "    </text>\n",
       "    <path class=\"displacy-arrowhead\" d=\"M160,139.0 L152,127.0 168,127.0\" fill=\"currentColor\"/>\n",
       "</g>\n",
       "\n",
       "<g class=\"displacy-arrow\">\n",
       "    <path class=\"displacy-arc\" id=\"arrow-7b572b798c7f42b69b8c91cf1841cba4-0-2\" stroke-width=\"2px\" d=\"M340,137.0 C340,92.0 400.0,92.0 400.0,137.0\" fill=\"none\" stroke=\"currentColor\"/>\n",
       "    <text dy=\"1.25em\" style=\"font-size: 0.8em; letter-spacing: 1px\">\n",
       "        <textPath xlink:href=\"#arrow-7b572b798c7f42b69b8c91cf1841cba4-0-2\" class=\"displacy-label\" startOffset=\"50%\" side=\"left\" fill=\"currentColor\" text-anchor=\"middle\">case</textPath>\n",
       "    </text>\n",
       "    <path class=\"displacy-arrowhead\" d=\"M340,139.0 L332,127.0 348,127.0\" fill=\"currentColor\"/>\n",
       "</g>\n",
       "\n",
       "<g class=\"displacy-arrow\">\n",
       "    <path class=\"displacy-arc\" id=\"arrow-7b572b798c7f42b69b8c91cf1841cba4-0-3\" stroke-width=\"2px\" d=\"M250,137.0 C250,47.0 405.0,47.0 405.0,137.0\" fill=\"none\" stroke=\"currentColor\"/>\n",
       "    <text dy=\"1.25em\" style=\"font-size: 0.8em; letter-spacing: 1px\">\n",
       "        <textPath xlink:href=\"#arrow-7b572b798c7f42b69b8c91cf1841cba4-0-3\" class=\"displacy-label\" startOffset=\"50%\" side=\"left\" fill=\"currentColor\" text-anchor=\"middle\">obl</textPath>\n",
       "    </text>\n",
       "    <path class=\"displacy-arrowhead\" d=\"M405.0,139.0 L413.0,127.0 397.0,127.0\" fill=\"currentColor\"/>\n",
       "</g>\n",
       "\n",
       "<g class=\"displacy-arrow\">\n",
       "    <path class=\"displacy-arc\" id=\"arrow-7b572b798c7f42b69b8c91cf1841cba4-0-4\" stroke-width=\"2px\" d=\"M520,137.0 C520,92.0 580.0,92.0 580.0,137.0\" fill=\"none\" stroke=\"currentColor\"/>\n",
       "    <text dy=\"1.25em\" style=\"font-size: 0.8em; letter-spacing: 1px\">\n",
       "        <textPath xlink:href=\"#arrow-7b572b798c7f42b69b8c91cf1841cba4-0-4\" class=\"displacy-label\" startOffset=\"50%\" side=\"left\" fill=\"currentColor\" text-anchor=\"middle\">mark</textPath>\n",
       "    </text>\n",
       "    <path class=\"displacy-arrowhead\" d=\"M520,139.0 L512,127.0 528,127.0\" fill=\"currentColor\"/>\n",
       "</g>\n",
       "\n",
       "<g class=\"displacy-arrow\">\n",
       "    <path class=\"displacy-arc\" id=\"arrow-7b572b798c7f42b69b8c91cf1841cba4-0-5\" stroke-width=\"2px\" d=\"M250,137.0 C250,2.0 590.0,2.0 590.0,137.0\" fill=\"none\" stroke=\"currentColor\"/>\n",
       "    <text dy=\"1.25em\" style=\"font-size: 0.8em; letter-spacing: 1px\">\n",
       "        <textPath xlink:href=\"#arrow-7b572b798c7f42b69b8c91cf1841cba4-0-5\" class=\"displacy-label\" startOffset=\"50%\" side=\"left\" fill=\"currentColor\" text-anchor=\"middle\">advcl</textPath>\n",
       "    </text>\n",
       "    <path class=\"displacy-arrowhead\" d=\"M590.0,139.0 L598.0,127.0 582.0,127.0\" fill=\"currentColor\"/>\n",
       "</g>\n",
       "\n",
       "<g class=\"displacy-arrow\">\n",
       "    <path class=\"displacy-arc\" id=\"arrow-7b572b798c7f42b69b8c91cf1841cba4-0-6\" stroke-width=\"2px\" d=\"M700,137.0 C700,92.0 760.0,92.0 760.0,137.0\" fill=\"none\" stroke=\"currentColor\"/>\n",
       "    <text dy=\"1.25em\" style=\"font-size: 0.8em; letter-spacing: 1px\">\n",
       "        <textPath xlink:href=\"#arrow-7b572b798c7f42b69b8c91cf1841cba4-0-6\" class=\"displacy-label\" startOffset=\"50%\" side=\"left\" fill=\"currentColor\" text-anchor=\"middle\">det</textPath>\n",
       "    </text>\n",
       "    <path class=\"displacy-arrowhead\" d=\"M700,139.0 L692,127.0 708,127.0\" fill=\"currentColor\"/>\n",
       "</g>\n",
       "\n",
       "<g class=\"displacy-arrow\">\n",
       "    <path class=\"displacy-arc\" id=\"arrow-7b572b798c7f42b69b8c91cf1841cba4-0-7\" stroke-width=\"2px\" d=\"M610,137.0 C610,47.0 765.0,47.0 765.0,137.0\" fill=\"none\" stroke=\"currentColor\"/>\n",
       "    <text dy=\"1.25em\" style=\"font-size: 0.8em; letter-spacing: 1px\">\n",
       "        <textPath xlink:href=\"#arrow-7b572b798c7f42b69b8c91cf1841cba4-0-7\" class=\"displacy-label\" startOffset=\"50%\" side=\"left\" fill=\"currentColor\" text-anchor=\"middle\">obj</textPath>\n",
       "    </text>\n",
       "    <path class=\"displacy-arrowhead\" d=\"M765.0,139.0 L773.0,127.0 757.0,127.0\" fill=\"currentColor\"/>\n",
       "</g>\n",
       "\n",
       "<g class=\"displacy-arrow\">\n",
       "    <path class=\"displacy-arc\" id=\"arrow-7b572b798c7f42b69b8c91cf1841cba4-0-8\" stroke-width=\"2px\" d=\"M880,137.0 C880,92.0 940.0,92.0 940.0,137.0\" fill=\"none\" stroke=\"currentColor\"/>\n",
       "    <text dy=\"1.25em\" style=\"font-size: 0.8em; letter-spacing: 1px\">\n",
       "        <textPath xlink:href=\"#arrow-7b572b798c7f42b69b8c91cf1841cba4-0-8\" class=\"displacy-label\" startOffset=\"50%\" side=\"left\" fill=\"currentColor\" text-anchor=\"middle\">case</textPath>\n",
       "    </text>\n",
       "    <path class=\"displacy-arrowhead\" d=\"M880,139.0 L872,127.0 888,127.0\" fill=\"currentColor\"/>\n",
       "</g>\n",
       "\n",
       "<g class=\"displacy-arrow\">\n",
       "    <path class=\"displacy-arc\" id=\"arrow-7b572b798c7f42b69b8c91cf1841cba4-0-9\" stroke-width=\"2px\" d=\"M610,137.0 C610,2.0 950.0,2.0 950.0,137.0\" fill=\"none\" stroke=\"currentColor\"/>\n",
       "    <text dy=\"1.25em\" style=\"font-size: 0.8em; letter-spacing: 1px\">\n",
       "        <textPath xlink:href=\"#arrow-7b572b798c7f42b69b8c91cf1841cba4-0-9\" class=\"displacy-label\" startOffset=\"50%\" side=\"left\" fill=\"currentColor\" text-anchor=\"middle\">obl</textPath>\n",
       "    </text>\n",
       "    <path class=\"displacy-arrowhead\" d=\"M950.0,139.0 L958.0,127.0 942.0,127.0\" fill=\"currentColor\"/>\n",
       "</g>\n",
       "</svg>"
      ],
      "text/plain": [
       "<IPython.core.display.HTML object>"
      ]
     },
     "metadata": {},
     "output_type": "display_data"
    }
   ],
   "source": [
    "#Podemos obter uma visualização melhor da relação utilizando o displacy\n",
    "from spacy import displacy\n",
    "grafico = displacy.render(document, style='dep', jupyter=True, options={'distance': 90})\n",
    "grafico"
   ]
  },
  {
   "cell_type": "code",
   "execution_count": 117,
   "metadata": {},
   "outputs": [
    {
     "data": {
      "text/plain": [
       "([viajar], [para, avós, São-Paulo])"
      ]
     },
     "execution_count": 117,
     "metadata": {},
     "output_type": "execute_result"
    }
   ],
   "source": [
    "#visitar\n",
    "list(document[6].ancestors), list(document[6].children)"
   ]
  },
  {
   "cell_type": "code",
   "execution_count": 139,
   "metadata": {},
   "outputs": [
    {
     "name": "stdout",
     "output_type": "stream",
     "text": [
      "(Bertioga, Santos) (visitar, trabalhar)\n"
     ]
    }
   ],
   "source": [
    "#outra frase\n",
    "document2 = nlp(\"Bertioga é uma cidade para se visitar, mas é melhor trabalhar em Santos.\")\n",
    "cidades = document2[0], document2[-2]\n",
    "atividades = document2[6], document2[11]\n",
    "print(cidades, atividades)"
   ]
  },
  {
   "cell_type": "code",
   "execution_count": 141,
   "metadata": {},
   "outputs": [
    {
     "name": "stdout",
     "output_type": "stream",
     "text": [
      "Santos é melhor para trabalhar\n",
      "\n"
     ]
    }
   ],
   "source": [
    "for local in cidades:\n",
    "    for acao in local.ancestors:\n",
    "        if acao in atividades:\n",
    "            print(f'{local} é melhor para {acao}\\n')"
   ]
  },
  {
   "cell_type": "code",
   "execution_count": 143,
   "metadata": {},
   "outputs": [
    {
     "data": {
      "text/html": [
       "<svg xmlns=\"http://www.w3.org/2000/svg\" xmlns:xlink=\"http://www.w3.org/1999/xlink\" xml:lang=\"pt\" id=\"1d8799d97bc048748ef61afa840b9e44-0\" class=\"displacy\" width=\"1090\" height=\"297.0\" direction=\"ltr\" style=\"max-width: none; height: 297.0px; color: #000000; background: #ffffff; font-family: Arial; direction: ltr\">\n",
       "<text class=\"displacy-token\" fill=\"currentColor\" text-anchor=\"middle\" y=\"207.0\">\n",
       "    <tspan class=\"displacy-word\" fill=\"currentColor\" x=\"50\">Bertioga</tspan>\n",
       "    <tspan class=\"displacy-tag\" dy=\"2em\" fill=\"currentColor\" x=\"50\">PROPN</tspan>\n",
       "</text>\n",
       "\n",
       "<text class=\"displacy-token\" fill=\"currentColor\" text-anchor=\"middle\" y=\"207.0\">\n",
       "    <tspan class=\"displacy-word\" fill=\"currentColor\" x=\"130\">é</tspan>\n",
       "    <tspan class=\"displacy-tag\" dy=\"2em\" fill=\"currentColor\" x=\"130\">VERB</tspan>\n",
       "</text>\n",
       "\n",
       "<text class=\"displacy-token\" fill=\"currentColor\" text-anchor=\"middle\" y=\"207.0\">\n",
       "    <tspan class=\"displacy-word\" fill=\"currentColor\" x=\"210\">uma</tspan>\n",
       "    <tspan class=\"displacy-tag\" dy=\"2em\" fill=\"currentColor\" x=\"210\">DET</tspan>\n",
       "</text>\n",
       "\n",
       "<text class=\"displacy-token\" fill=\"currentColor\" text-anchor=\"middle\" y=\"207.0\">\n",
       "    <tspan class=\"displacy-word\" fill=\"currentColor\" x=\"290\">cidade</tspan>\n",
       "    <tspan class=\"displacy-tag\" dy=\"2em\" fill=\"currentColor\" x=\"290\">NOUN</tspan>\n",
       "</text>\n",
       "\n",
       "<text class=\"displacy-token\" fill=\"currentColor\" text-anchor=\"middle\" y=\"207.0\">\n",
       "    <tspan class=\"displacy-word\" fill=\"currentColor\" x=\"370\">para</tspan>\n",
       "    <tspan class=\"displacy-tag\" dy=\"2em\" fill=\"currentColor\" x=\"370\">ADP</tspan>\n",
       "</text>\n",
       "\n",
       "<text class=\"displacy-token\" fill=\"currentColor\" text-anchor=\"middle\" y=\"207.0\">\n",
       "    <tspan class=\"displacy-word\" fill=\"currentColor\" x=\"450\">se</tspan>\n",
       "    <tspan class=\"displacy-tag\" dy=\"2em\" fill=\"currentColor\" x=\"450\">PRON</tspan>\n",
       "</text>\n",
       "\n",
       "<text class=\"displacy-token\" fill=\"currentColor\" text-anchor=\"middle\" y=\"207.0\">\n",
       "    <tspan class=\"displacy-word\" fill=\"currentColor\" x=\"530\">visitar,</tspan>\n",
       "    <tspan class=\"displacy-tag\" dy=\"2em\" fill=\"currentColor\" x=\"530\">VERB</tspan>\n",
       "</text>\n",
       "\n",
       "<text class=\"displacy-token\" fill=\"currentColor\" text-anchor=\"middle\" y=\"207.0\">\n",
       "    <tspan class=\"displacy-word\" fill=\"currentColor\" x=\"610\">mas</tspan>\n",
       "    <tspan class=\"displacy-tag\" dy=\"2em\" fill=\"currentColor\" x=\"610\">CCONJ</tspan>\n",
       "</text>\n",
       "\n",
       "<text class=\"displacy-token\" fill=\"currentColor\" text-anchor=\"middle\" y=\"207.0\">\n",
       "    <tspan class=\"displacy-word\" fill=\"currentColor\" x=\"690\">é</tspan>\n",
       "    <tspan class=\"displacy-tag\" dy=\"2em\" fill=\"currentColor\" x=\"690\">VERB</tspan>\n",
       "</text>\n",
       "\n",
       "<text class=\"displacy-token\" fill=\"currentColor\" text-anchor=\"middle\" y=\"207.0\">\n",
       "    <tspan class=\"displacy-word\" fill=\"currentColor\" x=\"770\">melhor</tspan>\n",
       "    <tspan class=\"displacy-tag\" dy=\"2em\" fill=\"currentColor\" x=\"770\">ADJ</tspan>\n",
       "</text>\n",
       "\n",
       "<text class=\"displacy-token\" fill=\"currentColor\" text-anchor=\"middle\" y=\"207.0\">\n",
       "    <tspan class=\"displacy-word\" fill=\"currentColor\" x=\"850\">trabalhar</tspan>\n",
       "    <tspan class=\"displacy-tag\" dy=\"2em\" fill=\"currentColor\" x=\"850\">VERB</tspan>\n",
       "</text>\n",
       "\n",
       "<text class=\"displacy-token\" fill=\"currentColor\" text-anchor=\"middle\" y=\"207.0\">\n",
       "    <tspan class=\"displacy-word\" fill=\"currentColor\" x=\"930\">em</tspan>\n",
       "    <tspan class=\"displacy-tag\" dy=\"2em\" fill=\"currentColor\" x=\"930\">ADP</tspan>\n",
       "</text>\n",
       "\n",
       "<text class=\"displacy-token\" fill=\"currentColor\" text-anchor=\"middle\" y=\"207.0\">\n",
       "    <tspan class=\"displacy-word\" fill=\"currentColor\" x=\"1010\">Santos.</tspan>\n",
       "    <tspan class=\"displacy-tag\" dy=\"2em\" fill=\"currentColor\" x=\"1010\">PROPN</tspan>\n",
       "</text>\n",
       "\n",
       "<g class=\"displacy-arrow\">\n",
       "    <path class=\"displacy-arc\" id=\"arrow-1d8799d97bc048748ef61afa840b9e44-0-0\" stroke-width=\"2px\" d=\"M70,162.0 C70,42.0 285.0,42.0 285.0,162.0\" fill=\"none\" stroke=\"currentColor\"/>\n",
       "    <text dy=\"1.25em\" style=\"font-size: 0.8em; letter-spacing: 1px\">\n",
       "        <textPath xlink:href=\"#arrow-1d8799d97bc048748ef61afa840b9e44-0-0\" class=\"displacy-label\" startOffset=\"50%\" side=\"left\" fill=\"currentColor\" text-anchor=\"middle\">nsubj</textPath>\n",
       "    </text>\n",
       "    <path class=\"displacy-arrowhead\" d=\"M70,164.0 L62,152.0 78,152.0\" fill=\"currentColor\"/>\n",
       "</g>\n",
       "\n",
       "<g class=\"displacy-arrow\">\n",
       "    <path class=\"displacy-arc\" id=\"arrow-1d8799d97bc048748ef61afa840b9e44-0-1\" stroke-width=\"2px\" d=\"M150,162.0 C150,82.0 280.0,82.0 280.0,162.0\" fill=\"none\" stroke=\"currentColor\"/>\n",
       "    <text dy=\"1.25em\" style=\"font-size: 0.8em; letter-spacing: 1px\">\n",
       "        <textPath xlink:href=\"#arrow-1d8799d97bc048748ef61afa840b9e44-0-1\" class=\"displacy-label\" startOffset=\"50%\" side=\"left\" fill=\"currentColor\" text-anchor=\"middle\">cop</textPath>\n",
       "    </text>\n",
       "    <path class=\"displacy-arrowhead\" d=\"M150,164.0 L142,152.0 158,152.0\" fill=\"currentColor\"/>\n",
       "</g>\n",
       "\n",
       "<g class=\"displacy-arrow\">\n",
       "    <path class=\"displacy-arc\" id=\"arrow-1d8799d97bc048748ef61afa840b9e44-0-2\" stroke-width=\"2px\" d=\"M230,162.0 C230,122.0 275.0,122.0 275.0,162.0\" fill=\"none\" stroke=\"currentColor\"/>\n",
       "    <text dy=\"1.25em\" style=\"font-size: 0.8em; letter-spacing: 1px\">\n",
       "        <textPath xlink:href=\"#arrow-1d8799d97bc048748ef61afa840b9e44-0-2\" class=\"displacy-label\" startOffset=\"50%\" side=\"left\" fill=\"currentColor\" text-anchor=\"middle\">det</textPath>\n",
       "    </text>\n",
       "    <path class=\"displacy-arrowhead\" d=\"M230,164.0 L222,152.0 238,152.0\" fill=\"currentColor\"/>\n",
       "</g>\n",
       "\n",
       "<g class=\"displacy-arrow\">\n",
       "    <path class=\"displacy-arc\" id=\"arrow-1d8799d97bc048748ef61afa840b9e44-0-3\" stroke-width=\"2px\" d=\"M390,162.0 C390,82.0 520.0,82.0 520.0,162.0\" fill=\"none\" stroke=\"currentColor\"/>\n",
       "    <text dy=\"1.25em\" style=\"font-size: 0.8em; letter-spacing: 1px\">\n",
       "        <textPath xlink:href=\"#arrow-1d8799d97bc048748ef61afa840b9e44-0-3\" class=\"displacy-label\" startOffset=\"50%\" side=\"left\" fill=\"currentColor\" text-anchor=\"middle\">mark</textPath>\n",
       "    </text>\n",
       "    <path class=\"displacy-arrowhead\" d=\"M390,164.0 L382,152.0 398,152.0\" fill=\"currentColor\"/>\n",
       "</g>\n",
       "\n",
       "<g class=\"displacy-arrow\">\n",
       "    <path class=\"displacy-arc\" id=\"arrow-1d8799d97bc048748ef61afa840b9e44-0-4\" stroke-width=\"2px\" d=\"M470,162.0 C470,122.0 515.0,122.0 515.0,162.0\" fill=\"none\" stroke=\"currentColor\"/>\n",
       "    <text dy=\"1.25em\" style=\"font-size: 0.8em; letter-spacing: 1px\">\n",
       "        <textPath xlink:href=\"#arrow-1d8799d97bc048748ef61afa840b9e44-0-4\" class=\"displacy-label\" startOffset=\"50%\" side=\"left\" fill=\"currentColor\" text-anchor=\"middle\">nsubj</textPath>\n",
       "    </text>\n",
       "    <path class=\"displacy-arrowhead\" d=\"M470,164.0 L462,152.0 478,152.0\" fill=\"currentColor\"/>\n",
       "</g>\n",
       "\n",
       "<g class=\"displacy-arrow\">\n",
       "    <path class=\"displacy-arc\" id=\"arrow-1d8799d97bc048748ef61afa840b9e44-0-5\" stroke-width=\"2px\" d=\"M310,162.0 C310,42.0 525.0,42.0 525.0,162.0\" fill=\"none\" stroke=\"currentColor\"/>\n",
       "    <text dy=\"1.25em\" style=\"font-size: 0.8em; letter-spacing: 1px\">\n",
       "        <textPath xlink:href=\"#arrow-1d8799d97bc048748ef61afa840b9e44-0-5\" class=\"displacy-label\" startOffset=\"50%\" side=\"left\" fill=\"currentColor\" text-anchor=\"middle\">acl</textPath>\n",
       "    </text>\n",
       "    <path class=\"displacy-arrowhead\" d=\"M525.0,164.0 L533.0,152.0 517.0,152.0\" fill=\"currentColor\"/>\n",
       "</g>\n",
       "\n",
       "<g class=\"displacy-arrow\">\n",
       "    <path class=\"displacy-arc\" id=\"arrow-1d8799d97bc048748ef61afa840b9e44-0-6\" stroke-width=\"2px\" d=\"M630,162.0 C630,82.0 760.0,82.0 760.0,162.0\" fill=\"none\" stroke=\"currentColor\"/>\n",
       "    <text dy=\"1.25em\" style=\"font-size: 0.8em; letter-spacing: 1px\">\n",
       "        <textPath xlink:href=\"#arrow-1d8799d97bc048748ef61afa840b9e44-0-6\" class=\"displacy-label\" startOffset=\"50%\" side=\"left\" fill=\"currentColor\" text-anchor=\"middle\">cc</textPath>\n",
       "    </text>\n",
       "    <path class=\"displacy-arrowhead\" d=\"M630,164.0 L622,152.0 638,152.0\" fill=\"currentColor\"/>\n",
       "</g>\n",
       "\n",
       "<g class=\"displacy-arrow\">\n",
       "    <path class=\"displacy-arc\" id=\"arrow-1d8799d97bc048748ef61afa840b9e44-0-7\" stroke-width=\"2px\" d=\"M710,162.0 C710,122.0 755.0,122.0 755.0,162.0\" fill=\"none\" stroke=\"currentColor\"/>\n",
       "    <text dy=\"1.25em\" style=\"font-size: 0.8em; letter-spacing: 1px\">\n",
       "        <textPath xlink:href=\"#arrow-1d8799d97bc048748ef61afa840b9e44-0-7\" class=\"displacy-label\" startOffset=\"50%\" side=\"left\" fill=\"currentColor\" text-anchor=\"middle\">cop</textPath>\n",
       "    </text>\n",
       "    <path class=\"displacy-arrowhead\" d=\"M710,164.0 L702,152.0 718,152.0\" fill=\"currentColor\"/>\n",
       "</g>\n",
       "\n",
       "<g class=\"displacy-arrow\">\n",
       "    <path class=\"displacy-arc\" id=\"arrow-1d8799d97bc048748ef61afa840b9e44-0-8\" stroke-width=\"2px\" d=\"M310,162.0 C310,2.0 770.0,2.0 770.0,162.0\" fill=\"none\" stroke=\"currentColor\"/>\n",
       "    <text dy=\"1.25em\" style=\"font-size: 0.8em; letter-spacing: 1px\">\n",
       "        <textPath xlink:href=\"#arrow-1d8799d97bc048748ef61afa840b9e44-0-8\" class=\"displacy-label\" startOffset=\"50%\" side=\"left\" fill=\"currentColor\" text-anchor=\"middle\">conj</textPath>\n",
       "    </text>\n",
       "    <path class=\"displacy-arrowhead\" d=\"M770.0,164.0 L778.0,152.0 762.0,152.0\" fill=\"currentColor\"/>\n",
       "</g>\n",
       "\n",
       "<g class=\"displacy-arrow\">\n",
       "    <path class=\"displacy-arc\" id=\"arrow-1d8799d97bc048748ef61afa840b9e44-0-9\" stroke-width=\"2px\" d=\"M790,162.0 C790,122.0 835.0,122.0 835.0,162.0\" fill=\"none\" stroke=\"currentColor\"/>\n",
       "    <text dy=\"1.25em\" style=\"font-size: 0.8em; letter-spacing: 1px\">\n",
       "        <textPath xlink:href=\"#arrow-1d8799d97bc048748ef61afa840b9e44-0-9\" class=\"displacy-label\" startOffset=\"50%\" side=\"left\" fill=\"currentColor\" text-anchor=\"middle\">csubj</textPath>\n",
       "    </text>\n",
       "    <path class=\"displacy-arrowhead\" d=\"M835.0,164.0 L843.0,152.0 827.0,152.0\" fill=\"currentColor\"/>\n",
       "</g>\n",
       "\n",
       "<g class=\"displacy-arrow\">\n",
       "    <path class=\"displacy-arc\" id=\"arrow-1d8799d97bc048748ef61afa840b9e44-0-10\" stroke-width=\"2px\" d=\"M950,162.0 C950,122.0 995.0,122.0 995.0,162.0\" fill=\"none\" stroke=\"currentColor\"/>\n",
       "    <text dy=\"1.25em\" style=\"font-size: 0.8em; letter-spacing: 1px\">\n",
       "        <textPath xlink:href=\"#arrow-1d8799d97bc048748ef61afa840b9e44-0-10\" class=\"displacy-label\" startOffset=\"50%\" side=\"left\" fill=\"currentColor\" text-anchor=\"middle\">case</textPath>\n",
       "    </text>\n",
       "    <path class=\"displacy-arrowhead\" d=\"M950,164.0 L942,152.0 958,152.0\" fill=\"currentColor\"/>\n",
       "</g>\n",
       "\n",
       "<g class=\"displacy-arrow\">\n",
       "    <path class=\"displacy-arc\" id=\"arrow-1d8799d97bc048748ef61afa840b9e44-0-11\" stroke-width=\"2px\" d=\"M870,162.0 C870,82.0 1000.0,82.0 1000.0,162.0\" fill=\"none\" stroke=\"currentColor\"/>\n",
       "    <text dy=\"1.25em\" style=\"font-size: 0.8em; letter-spacing: 1px\">\n",
       "        <textPath xlink:href=\"#arrow-1d8799d97bc048748ef61afa840b9e44-0-11\" class=\"displacy-label\" startOffset=\"50%\" side=\"left\" fill=\"currentColor\" text-anchor=\"middle\">obl</textPath>\n",
       "    </text>\n",
       "    <path class=\"displacy-arrowhead\" d=\"M1000.0,164.0 L1008.0,152.0 992.0,152.0\" fill=\"currentColor\"/>\n",
       "</g>\n",
       "</svg>"
      ],
      "text/plain": [
       "<IPython.core.display.HTML object>"
      ]
     },
     "metadata": {},
     "output_type": "display_data"
    }
   ],
   "source": [
    "displacy.render(document2, style='dep', jupyter=True, options={'distance': 80})"
   ]
  },
  {
   "cell_type": "code",
   "execution_count": null,
   "metadata": {},
   "outputs": [],
   "source": []
  }
 ],
 "metadata": {
  "kernelspec": {
   "display_name": "Python 3",
   "language": "python",
   "name": "python3"
  },
  "language_info": {
   "codemirror_mode": {
    "name": "ipython",
    "version": 3
   },
   "file_extension": ".py",
   "mimetype": "text/x-python",
   "name": "python",
   "nbconvert_exporter": "python",
   "pygments_lexer": "ipython3",
   "version": "3.8.3"
  }
 },
 "nbformat": 4,
 "nbformat_minor": 4
}
